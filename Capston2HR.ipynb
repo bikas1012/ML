{
  "nbformat": 4,
  "nbformat_minor": 0,
  "metadata": {
    "colab": {
      "name": "Capston2HR.ipynb",
      "provenance": [],
      "collapsed_sections": [],
      "authorship_tag": "ABX9TyPMsj+wY3BTOyjZBbkjXz2i",
      "include_colab_link": true
    },
    "kernelspec": {
      "name": "python3",
      "display_name": "Python 3"
    }
  },
  "cells": [
    {
      "cell_type": "markdown",
      "metadata": {
        "id": "view-in-github",
        "colab_type": "text"
      },
      "source": [
        "<a href=\"https://colab.research.google.com/github/bikas1012/Term-2/blob/master/Capston2HR.ipynb\" target=\"_parent\"><img src=\"https://colab.research.google.com/assets/colab-badge.svg\" alt=\"Open In Colab\"/></a>"
      ]
    },
    {
      "cell_type": "code",
      "metadata": {
        "id": "0DBf5CV4rg6j",
        "outputId": "b44f1cc0-964a-4b74-e40e-9c0dbeefb8b4",
        "colab": {
          "base_uri": "https://localhost:8080/"
        }
      },
      "source": [
        "!pip install mysql.connector"
      ],
      "execution_count": 1,
      "outputs": [
        {
          "output_type": "stream",
          "text": [
            "Collecting mysql.connector\n",
            "\u001b[?25l  Downloading https://files.pythonhosted.org/packages/28/04/e40098f3730e75bbe36a338926f566ea803550a34fb50535499f4fc4787a/mysql-connector-2.2.9.tar.gz (11.9MB)\n",
            "\u001b[K     |████████████████████████████████| 11.9MB 8.4MB/s \n",
            "\u001b[?25hBuilding wheels for collected packages: mysql.connector\n",
            "  Building wheel for mysql.connector (setup.py) ... \u001b[?25l\u001b[?25hdone\n",
            "  Created wheel for mysql.connector: filename=mysql_connector-2.2.9-cp36-cp36m-linux_x86_64.whl size=247950 sha256=d5c023152c675a430da079b1abbe01b5e5e4bce670e74852d7b74e48c70bd7b1\n",
            "  Stored in directory: /root/.cache/pip/wheels/8c/83/a1/f8b6d4bb1bd6208bbde1608bbfa7557504bed9eaf2ecf8c175\n",
            "Successfully built mysql.connector\n",
            "Installing collected packages: mysql.connector\n",
            "Successfully installed mysql.connector\n"
          ],
          "name": "stdout"
        }
      ]
    },
    {
      "cell_type": "code",
      "metadata": {
        "id": "EToZo_CYrpV5"
      },
      "source": [
        "import pandas as pd\n",
        "import numpy as np\n",
        "import seaborn as sns\n",
        "import matplotlib.pyplot as plt\n",
        "from matplotlib.pyplot import pie, axis, show\n",
        "%matplotlib inline"
      ],
      "execution_count": 3,
      "outputs": []
    },
    {
      "cell_type": "code",
      "metadata": {
        "id": "jNGsFqO7rxLk"
      },
      "source": [
        "from mysql.connector import Error"
      ],
      "execution_count": 4,
      "outputs": []
    },
    {
      "cell_type": "code",
      "metadata": {
        "id": "Jip9khGwr5Mo"
      },
      "source": [
        "import mysql.connector"
      ],
      "execution_count": 5,
      "outputs": []
    },
    {
      "cell_type": "code",
      "metadata": {
        "id": "py3Q9rH6r_DA",
        "outputId": "f82a5c8f-1fdd-4e38-b24c-e44269278d3c",
        "colab": {
          "base_uri": "https://localhost:8080/"
        }
      },
      "source": [
        "try:\n",
        "   connection = mysql.connector.connect(host='cpanel.insaid.co', database='Capstone2', user='student',password='student')\n",
        "\n",
        "   if connection.is_connected():\n",
        "     db_info = connection.get_server_info()\n",
        "     print(\"connected to MySQ Server version\", db_info)\n",
        "     sql_department_data = \"select * from department_data\"\n",
        "     sql_employee_details_data = \"select * from employee_details_data\"\n",
        "     sql_employee_data = \"select * from employee_data\"\n",
        "    \n",
        "     cursor = connection.cursor()\n",
        "     cursor.execute(sql_department_data)\n",
        "     record = cursor.fetchall()\n",
        "     department_data_train = pd.DataFrame(record)\n",
        "     \n",
        "     cursor.execute(sql_employee_details_data)\n",
        "     record1 = cursor.fetchall()\n",
        "     employee_details_data = pd.DataFrame(record1)\n",
        "\n",
        "     cursor.execute(sql_employee_data)\n",
        "     record2 = cursor.fetchall()\n",
        "     employee_data = pd.DataFrame(record2)\n",
        " \n",
        "except Error as e :\n",
        "  print (\"Error while connecting  to MySQL\", e)\n",
        "\n",
        "finally :\n",
        "  if (connection.is_connected()) :\n",
        "    cursor.close()\n",
        "    connection.close()\n",
        "    print(\"MySQL connection is closed\")"
      ],
      "execution_count": 6,
      "outputs": [
        {
          "output_type": "stream",
          "text": [
            "connected to MySQ Server version 5.6.49-cll-lve\n",
            "MySQL connection is closed\n"
          ],
          "name": "stdout"
        }
      ]
    },
    {
      "cell_type": "code",
      "metadata": {
        "id": "6dWgCZ1wtbZo",
        "outputId": "a84de3ef-9a30-40a6-c57b-4e1570e67d53",
        "colab": {
          "base_uri": "https://localhost:8080/"
        }
      },
      "source": [
        "connection"
      ],
      "execution_count": 7,
      "outputs": [
        {
          "output_type": "execute_result",
          "data": {
            "text/plain": [
              "<mysql.connector.connection.MySQLConnection at 0x7f39b79be358>"
            ]
          },
          "metadata": {
            "tags": []
          },
          "execution_count": 7
        }
      ]
    },
    {
      "cell_type": "code",
      "metadata": {
        "id": "kN0FhBFUtcot",
        "outputId": "804f2102-9923-4387-a7fa-b30ce1dab2bd",
        "colab": {
          "base_uri": "https://localhost:8080/",
          "height": 202
        }
      },
      "source": [
        "department_data_train.head()"
      ],
      "execution_count": 8,
      "outputs": [
        {
          "output_type": "execute_result",
          "data": {
            "text/html": [
              "<div>\n",
              "<style scoped>\n",
              "    .dataframe tbody tr th:only-of-type {\n",
              "        vertical-align: middle;\n",
              "    }\n",
              "\n",
              "    .dataframe tbody tr th {\n",
              "        vertical-align: top;\n",
              "    }\n",
              "\n",
              "    .dataframe thead th {\n",
              "        text-align: right;\n",
              "    }\n",
              "</style>\n",
              "<table border=\"1\" class=\"dataframe\">\n",
              "  <thead>\n",
              "    <tr style=\"text-align: right;\">\n",
              "      <th></th>\n",
              "      <th>0</th>\n",
              "      <th>1</th>\n",
              "      <th>2</th>\n",
              "    </tr>\n",
              "  </thead>\n",
              "  <tbody>\n",
              "    <tr>\n",
              "      <th>0</th>\n",
              "      <td>D00-IT</td>\n",
              "      <td>IT</td>\n",
              "      <td>Henry Adey</td>\n",
              "    </tr>\n",
              "    <tr>\n",
              "      <th>1</th>\n",
              "      <td>D00-SS</td>\n",
              "      <td>Sales</td>\n",
              "      <td>Edward J Bayley</td>\n",
              "    </tr>\n",
              "    <tr>\n",
              "      <th>2</th>\n",
              "      <td>D00-TP</td>\n",
              "      <td>Temp</td>\n",
              "      <td>Micheal Zachrey</td>\n",
              "    </tr>\n",
              "    <tr>\n",
              "      <th>3</th>\n",
              "      <td>D00-ENG</td>\n",
              "      <td>Engineering</td>\n",
              "      <td>Sushant Raghunathan K</td>\n",
              "    </tr>\n",
              "    <tr>\n",
              "      <th>4</th>\n",
              "      <td>D00-SP</td>\n",
              "      <td>Support</td>\n",
              "      <td>Amelia Westray</td>\n",
              "    </tr>\n",
              "  </tbody>\n",
              "</table>\n",
              "</div>"
            ],
            "text/plain": [
              "         0            1                      2\n",
              "0   D00-IT           IT             Henry Adey\n",
              "1   D00-SS        Sales        Edward J Bayley\n",
              "2   D00-TP         Temp        Micheal Zachrey\n",
              "3  D00-ENG  Engineering  Sushant Raghunathan K\n",
              "4   D00-SP      Support         Amelia Westray"
            ]
          },
          "metadata": {
            "tags": []
          },
          "execution_count": 8
        }
      ]
    },
    {
      "cell_type": "code",
      "metadata": {
        "id": "pZExGVgptmu0",
        "outputId": "b9b8bcdb-0338-427f-ed69-05846c537d5d",
        "colab": {
          "base_uri": "https://localhost:8080/",
          "height": 202
        }
      },
      "source": [
        "employee_details_data.head()"
      ],
      "execution_count": 9,
      "outputs": [
        {
          "output_type": "execute_result",
          "data": {
            "text/html": [
              "<div>\n",
              "<style scoped>\n",
              "    .dataframe tbody tr th:only-of-type {\n",
              "        vertical-align: middle;\n",
              "    }\n",
              "\n",
              "    .dataframe tbody tr th {\n",
              "        vertical-align: top;\n",
              "    }\n",
              "\n",
              "    .dataframe thead th {\n",
              "        text-align: right;\n",
              "    }\n",
              "</style>\n",
              "<table border=\"1\" class=\"dataframe\">\n",
              "  <thead>\n",
              "    <tr style=\"text-align: right;\">\n",
              "      <th></th>\n",
              "      <th>0</th>\n",
              "      <th>1</th>\n",
              "      <th>2</th>\n",
              "      <th>3</th>\n",
              "    </tr>\n",
              "  </thead>\n",
              "  <tbody>\n",
              "    <tr>\n",
              "      <th>0</th>\n",
              "      <td>113558</td>\n",
              "      <td>43</td>\n",
              "      <td>Male</td>\n",
              "      <td>Married</td>\n",
              "    </tr>\n",
              "    <tr>\n",
              "      <th>1</th>\n",
              "      <td>112256</td>\n",
              "      <td>24</td>\n",
              "      <td>Female</td>\n",
              "      <td>Unmarried</td>\n",
              "    </tr>\n",
              "    <tr>\n",
              "      <th>2</th>\n",
              "      <td>112586</td>\n",
              "      <td>22</td>\n",
              "      <td>Female</td>\n",
              "      <td>Unmarried</td>\n",
              "    </tr>\n",
              "    <tr>\n",
              "      <th>3</th>\n",
              "      <td>108071</td>\n",
              "      <td>36</td>\n",
              "      <td>Male</td>\n",
              "      <td>Married</td>\n",
              "    </tr>\n",
              "    <tr>\n",
              "      <th>4</th>\n",
              "      <td>116915</td>\n",
              "      <td>38</td>\n",
              "      <td>Male</td>\n",
              "      <td>Married</td>\n",
              "    </tr>\n",
              "  </tbody>\n",
              "</table>\n",
              "</div>"
            ],
            "text/plain": [
              "        0   1       2          3\n",
              "0  113558  43    Male    Married\n",
              "1  112256  24  Female  Unmarried\n",
              "2  112586  22  Female  Unmarried\n",
              "3  108071  36    Male    Married\n",
              "4  116915  38    Male    Married"
            ]
          },
          "metadata": {
            "tags": []
          },
          "execution_count": 9
        }
      ]
    },
    {
      "cell_type": "code",
      "metadata": {
        "id": "etLvDfK-tuFN",
        "outputId": "b230fd72-1978-4101-c545-69c4d4d0b9fe",
        "colab": {
          "base_uri": "https://localhost:8080/",
          "height": 202
        }
      },
      "source": [
        "employee_data.head()"
      ],
      "execution_count": 10,
      "outputs": [
        {
          "output_type": "execute_result",
          "data": {
            "text/html": [
              "<div>\n",
              "<style scoped>\n",
              "    .dataframe tbody tr th:only-of-type {\n",
              "        vertical-align: middle;\n",
              "    }\n",
              "\n",
              "    .dataframe tbody tr th {\n",
              "        vertical-align: top;\n",
              "    }\n",
              "\n",
              "    .dataframe thead th {\n",
              "        text-align: right;\n",
              "    }\n",
              "</style>\n",
              "<table border=\"1\" class=\"dataframe\">\n",
              "  <thead>\n",
              "    <tr style=\"text-align: right;\">\n",
              "      <th></th>\n",
              "      <th>0</th>\n",
              "      <th>1</th>\n",
              "      <th>2</th>\n",
              "      <th>3</th>\n",
              "      <th>4</th>\n",
              "      <th>5</th>\n",
              "      <th>6</th>\n",
              "      <th>7</th>\n",
              "      <th>8</th>\n",
              "      <th>9</th>\n",
              "      <th>10</th>\n",
              "    </tr>\n",
              "  </thead>\n",
              "  <tbody>\n",
              "    <tr>\n",
              "      <th>0</th>\n",
              "      <td>246.00</td>\n",
              "      <td>None</td>\n",
              "      <td>None</td>\n",
              "      <td>0.866838</td>\n",
              "      <td>6</td>\n",
              "      <td>NaN</td>\n",
              "      <td>medium</td>\n",
              "      <td>0.134415</td>\n",
              "      <td>Left</td>\n",
              "      <td>4.00</td>\n",
              "      <td>124467</td>\n",
              "    </tr>\n",
              "    <tr>\n",
              "      <th>1</th>\n",
              "      <td>134.00</td>\n",
              "      <td>None</td>\n",
              "      <td>None</td>\n",
              "      <td>0.555718</td>\n",
              "      <td>2</td>\n",
              "      <td>NaN</td>\n",
              "      <td>low</td>\n",
              "      <td>0.511041</td>\n",
              "      <td>Left</td>\n",
              "      <td>3.00</td>\n",
              "      <td>112210</td>\n",
              "    </tr>\n",
              "    <tr>\n",
              "      <th>2</th>\n",
              "      <td>156.00</td>\n",
              "      <td>D00-SS</td>\n",
              "      <td>1.00</td>\n",
              "      <td>0.474082</td>\n",
              "      <td>2</td>\n",
              "      <td>NaN</td>\n",
              "      <td>medium</td>\n",
              "      <td>0.405101</td>\n",
              "      <td>Left</td>\n",
              "      <td>3.00</td>\n",
              "      <td>126150</td>\n",
              "    </tr>\n",
              "    <tr>\n",
              "      <th>3</th>\n",
              "      <td>256.00</td>\n",
              "      <td>D00-SP</td>\n",
              "      <td>None</td>\n",
              "      <td>0.961360</td>\n",
              "      <td>6</td>\n",
              "      <td>NaN</td>\n",
              "      <td>low</td>\n",
              "      <td>0.152974</td>\n",
              "      <td>Left</td>\n",
              "      <td>4.00</td>\n",
              "      <td>125346</td>\n",
              "    </tr>\n",
              "    <tr>\n",
              "      <th>4</th>\n",
              "      <td>146.00</td>\n",
              "      <td>D00-SS</td>\n",
              "      <td>None</td>\n",
              "      <td>0.507349</td>\n",
              "      <td>2</td>\n",
              "      <td>NaN</td>\n",
              "      <td>medium</td>\n",
              "      <td>0.434845</td>\n",
              "      <td>Left</td>\n",
              "      <td>3.00</td>\n",
              "      <td>113707</td>\n",
              "    </tr>\n",
              "  </tbody>\n",
              "</table>\n",
              "</div>"
            ],
            "text/plain": [
              "       0       1     2         3   4   5       6         7     8     9       10\n",
              "0  246.00    None  None  0.866838   6 NaN  medium  0.134415  Left  4.00  124467\n",
              "1  134.00    None  None  0.555718   2 NaN     low  0.511041  Left  3.00  112210\n",
              "2  156.00  D00-SS  1.00  0.474082   2 NaN  medium  0.405101  Left  3.00  126150\n",
              "3  256.00  D00-SP  None  0.961360   6 NaN     low  0.152974  Left  4.00  125346\n",
              "4  146.00  D00-SS  None  0.507349   2 NaN  medium  0.434845  Left  3.00  113707"
            ]
          },
          "metadata": {
            "tags": []
          },
          "execution_count": 10
        }
      ]
    },
    {
      "cell_type": "code",
      "metadata": {
        "id": "OmLdEZLeuDJf",
        "outputId": "a704bf89-ed45-4a83-9aeb-f9920c52bea9",
        "colab": {
          "base_uri": "https://localhost:8080/"
        }
      },
      "source": [
        "employee_data.info\n"
      ],
      "execution_count": 11,
      "outputs": [
        {
          "output_type": "execute_result",
          "data": {
            "text/plain": [
              "<bound method DataFrame.info of            0       1     2         3   ...        7         8     9       10\n",
              "0      246.00    None  None  0.866838  ...  0.134415      Left  4.00  124467\n",
              "1      134.00    None  None  0.555718  ...  0.511041      Left  3.00  112210\n",
              "2      156.00  D00-SS  1.00  0.474082  ...  0.405101      Left  3.00  126150\n",
              "3      256.00  D00-SP  None  0.961360  ...  0.152974      Left  4.00  125346\n",
              "4      146.00  D00-SS  None  0.507349  ...  0.434845      Left  3.00  113707\n",
              "...       ...     ...   ...       ...  ...       ...       ...   ...     ...\n",
              "14145  245.00  D00-SS  None  0.850785  ...  0.225084  Employed  5.00  101809\n",
              "14146  192.00  D00-SS  None  0.951901  ...  0.539834  Employed  3.00  116153\n",
              "14147  175.00  D00-MN  None  0.854538  ...  0.934465  Employed  3.00  119780\n",
              "14148  268.00  D00-MT  None  0.900887  ...  0.906613      Left  5.00  115325\n",
              "14149  268.00  D00-IT  1.00  0.897098  ...  0.459371  Employed  4.00  112312\n",
              "\n",
              "[14150 rows x 11 columns]>"
            ]
          },
          "metadata": {
            "tags": []
          },
          "execution_count": 11
        }
      ]
    }
  ]
}